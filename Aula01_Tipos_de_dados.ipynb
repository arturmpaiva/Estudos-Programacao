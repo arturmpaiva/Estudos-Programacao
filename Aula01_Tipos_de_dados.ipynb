{
  "nbformat": 4,
  "nbformat_minor": 0,
  "metadata": {
    "colab": {
      "provenance": [],
      "authorship_tag": "ABX9TyMP3MyK6pX7lWt3vmyDRw5Z",
      "include_colab_link": true
    },
    "kernelspec": {
      "name": "python3",
      "display_name": "Python 3"
    },
    "language_info": {
      "name": "python"
    }
  },
  "cells": [
    {
      "cell_type": "markdown",
      "metadata": {
        "id": "view-in-github",
        "colab_type": "text"
      },
      "source": [
        "<a href=\"https://colab.research.google.com/github/arturmpaiva/Estudos-Programacao/blob/main/Aula01_Tipos_de_dados.ipynb\" target=\"_parent\"><img src=\"https://colab.research.google.com/assets/colab-badge.svg\" alt=\"Open In Colab\"/></a>"
      ]
    },
    {
      "cell_type": "code",
      "execution_count": 1,
      "metadata": {
        "colab": {
          "base_uri": "https://localhost:8080/"
        },
        "id": "_GSnAvyiBq4u",
        "outputId": "508f1276-60ee-4f16-b9fd-b7e0e21168bf"
      },
      "outputs": [
        {
          "output_type": "stream",
          "name": "stdout",
          "text": [
            "Meu primeiro notebook\n"
          ]
        }
      ],
      "source": [
        "print(\"Meu primeiro notebook\")\n"
      ]
    },
    {
      "cell_type": "code",
      "source": [
        "nome = \"Artur\"\n",
        "print(nome)"
      ],
      "metadata": {
        "colab": {
          "base_uri": "https://localhost:8080/"
        },
        "id": "DB66jvSsCS4B",
        "outputId": "b120774c-709a-4d79-f6a0-46165bc16310"
      },
      "execution_count": 2,
      "outputs": [
        {
          "output_type": "stream",
          "name": "stdout",
          "text": [
            "artur\n"
          ]
        }
      ]
    },
    {
      "cell_type": "code",
      "source": [
        "#Descobrir tipo de variável\n",
        "type(nome)"
      ],
      "metadata": {
        "colab": {
          "base_uri": "https://localhost:8080/"
        },
        "id": "-LHQSIObClUO",
        "outputId": "287d3fd9-dd79-46b2-d9df-93038d523bd2"
      },
      "execution_count": 3,
      "outputs": [
        {
          "output_type": "execute_result",
          "data": {
            "text/plain": [
              "str"
            ]
          },
          "metadata": {},
          "execution_count": 3
        }
      ]
    },
    {
      "cell_type": "code",
      "source": [
        "a = 100\n",
        "b = 25.6\n",
        "c = a > b\n",
        "d = \"chimpanze\""
      ],
      "metadata": {
        "id": "QgeCMNH0EMlq"
      },
      "execution_count": 22,
      "outputs": []
    },
    {
      "cell_type": "code",
      "source": [
        "print(c)"
      ],
      "metadata": {
        "colab": {
          "base_uri": "https://localhost:8080/"
        },
        "id": "Q4UFf4LMEd2i",
        "outputId": "9ac284aa-d2bd-4e49-a995-7a0a8450c78b"
      },
      "execution_count": 23,
      "outputs": [
        {
          "output_type": "stream",
          "name": "stdout",
          "text": [
            "True\n"
          ]
        }
      ]
    },
    {
      "cell_type": "code",
      "source": [
        "a = 100 < 200\n",
        "b = 85 == 6\n",
        "c = \"pablo\" == 'Pablo'\n",
        "d = 25 == '25'\n",
        "e = 30 == (6 * 5)\n",
        "f = 'chocolate' != 'agua'"
      ],
      "metadata": {
        "id": "fB-Z8cllK2h5"
      },
      "execution_count": 34,
      "outputs": []
    },
    {
      "cell_type": "code",
      "source": [
        "print(a)\n",
        "print(b)\n",
        "print(c)\n",
        "print(d)\n",
        "print(e)\n",
        "print(f)"
      ],
      "metadata": {
        "colab": {
          "base_uri": "https://localhost:8080/"
        },
        "id": "mqH7cEr6K-ZQ",
        "outputId": "3c50c621-ef56-4bb8-b22f-7c1c1bbdfa5c"
      },
      "execution_count": 36,
      "outputs": [
        {
          "output_type": "stream",
          "name": "stdout",
          "text": [
            "True\n",
            "False\n",
            "False\n",
            "False\n",
            "True\n",
            "True\n"
          ]
        }
      ]
    },
    {
      "cell_type": "code",
      "source": [
        "notaAprovacao = 7.0\n",
        "notaWalison = 9.0\n",
        "print(notaAprovacao < notaWalison)\n"
      ],
      "metadata": {
        "colab": {
          "base_uri": "https://localhost:8080/"
        },
        "id": "wcxilNH5MzyJ",
        "outputId": "f8eda055-1513-4b74-cdbf-e8aea30a3c06"
      },
      "execution_count": 63,
      "outputs": [
        {
          "output_type": "stream",
          "name": "stdout",
          "text": [
            "True\n"
          ]
        }
      ]
    },
    {
      "cell_type": "markdown",
      "source": [
        "Input de dados no Python"
      ],
      "metadata": {
        "id": "cNSewtI0UYBK"
      }
    },
    {
      "cell_type": "code",
      "source": [
        "#fazer parse\n",
        "nota1 = float(input('Digite a primeira nota '))\n",
        "nota2 = float(input('Digite a segunda nota '))\n",
        "nota3 = float(input('Digite a terceira nota '))\n",
        "media = (nota1 + nota2 + nota3)/3\n",
        "print(media)\n"
      ],
      "metadata": {
        "colab": {
          "base_uri": "https://localhost:8080/"
        },
        "id": "kzVhtfzxUbuP",
        "outputId": "15abfefd-1296-4294-e811-72c0518fe551"
      },
      "execution_count": 80,
      "outputs": [
        {
          "output_type": "stream",
          "name": "stdout",
          "text": [
            "Digite a primeira nota 10\n",
            "Digite a segunda nota 4\n",
            "Digite a terceira nota 4\n",
            "6.0\n"
          ]
        }
      ]
    },
    {
      "cell_type": "code",
      "source": [
        "if (media < 4):\n",
        "  print('REPROVADO')\n",
        "elif (media < 7):\n",
        "  print('RECUPERACAO')\n",
        "else:\n",
        "  print('APROVADO')"
      ],
      "metadata": {
        "colab": {
          "base_uri": "https://localhost:8080/"
        },
        "id": "uiyH01L5NJLw",
        "outputId": "489f4b53-b291-4381-989e-09a2bf01b35e"
      },
      "execution_count": 81,
      "outputs": [
        {
          "output_type": "stream",
          "name": "stdout",
          "text": [
            "RECUPERACAO\n"
          ]
        }
      ]
    }
  ]
}