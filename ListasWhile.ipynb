{
  "nbformat": 4,
  "nbformat_minor": 0,
  "metadata": {
    "colab": {
      "provenance": [],
      "authorship_tag": "ABX9TyOerLCBY8Seybmjh1We4tE6",
      "include_colab_link": true
    },
    "kernelspec": {
      "name": "python3",
      "display_name": "Python 3"
    },
    "language_info": {
      "name": "python"
    }
  },
  "cells": [
    {
      "cell_type": "markdown",
      "metadata": {
        "id": "view-in-github",
        "colab_type": "text"
      },
      "source": [
        "<a href=\"https://colab.research.google.com/github/arturmpaiva/Estudos-Programacao-Python/blob/main/ListasWhile.ipynb\" target=\"_parent\"><img src=\"https://colab.research.google.com/assets/colab-badge.svg\" alt=\"Open In Colab\"/></a>"
      ]
    },
    {
      "cell_type": "code",
      "execution_count": 1,
      "metadata": {
        "colab": {
          "base_uri": "https://localhost:8080/"
        },
        "id": "Xoq9QLchDMoj",
        "outputId": "892085a8-31b9-4499-f604-95b9ac5ae2c8"
      },
      "outputs": [
        {
          "output_type": "stream",
          "name": "stdout",
          "text": [
            "2023\n"
          ]
        }
      ],
      "source": [
        "ano = 2023\n",
        "print(ano)"
      ]
    },
    {
      "cell_type": "code",
      "source": [
        "#laço for\n",
        "\n",
        "#criando uma lista"
      ],
      "metadata": {
        "id": "typQzQkAENfs"
      },
      "execution_count": 2,
      "outputs": []
    },
    {
      "cell_type": "code",
      "source": [
        "frutas = ['jaca', 'manga', 'morango', 'pinha', 'goiaba']"
      ],
      "metadata": {
        "id": "QvwGH4EMES7f"
      },
      "execution_count": 5,
      "outputs": []
    },
    {
      "cell_type": "code",
      "source": [
        "for i in frutas:\n",
        "  print(i)"
      ],
      "metadata": {
        "colab": {
          "base_uri": "https://localhost:8080/"
        },
        "id": "Mx_nOzajE5vI",
        "outputId": "27263060-538e-4196-8616-2fc3b49ed1c7"
      },
      "execution_count": 6,
      "outputs": [
        {
          "output_type": "stream",
          "name": "stdout",
          "text": [
            "jaca\n",
            "manga\n",
            "morango\n",
            "pinha\n",
            "goiaba\n"
          ]
        }
      ]
    },
    {
      "cell_type": "code",
      "source": [
        "for i in frutas:\n",
        "  if(i == 'morango'):\n",
        "    print(i)"
      ],
      "metadata": {
        "colab": {
          "base_uri": "https://localhost:8080/"
        },
        "id": "3m8ygwZpF9F9",
        "outputId": "bb2f7841-7246-4043-fd5c-82d44b3e00ac"
      },
      "execution_count": 7,
      "outputs": [
        {
          "output_type": "stream",
          "name": "stdout",
          "text": [
            "morango\n"
          ]
        }
      ]
    },
    {
      "cell_type": "code",
      "source": [
        "fruta = input('insira uma fruta: ')\n",
        "#inserir valores em lista\n",
        "frutas.append(fruta)\n",
        "frutas"
      ],
      "metadata": {
        "colab": {
          "base_uri": "https://localhost:8080/"
        },
        "id": "FXBxp-gOHazx",
        "outputId": "30fb0202-ac46-44cf-dab6-7f9c2d6190a8"
      },
      "execution_count": 11,
      "outputs": [
        {
          "name": "stdout",
          "output_type": "stream",
          "text": [
            "insira uma fruta: abacaxi\n"
          ]
        },
        {
          "output_type": "execute_result",
          "data": {
            "text/plain": [
              "['jaca', 'manga', 'morango', 'pinha', 'goiaba', 'limao', 'abacaxi']"
            ]
          },
          "metadata": {},
          "execution_count": 11
        }
      ]
    },
    {
      "cell_type": "code",
      "source": [
        "notas = [8, 9, 3, 4, 7, 10, 3, 6, 7]\n",
        "for nota in notas:\n",
        "  if (nota >= 7):\n",
        "    print('Aprovado', nota)\n",
        "  else:\n",
        "    print('Reprovado', nota)"
      ],
      "metadata": {
        "colab": {
          "base_uri": "https://localhost:8080/"
        },
        "id": "CiEGXNq4IVyx",
        "outputId": "f5fa89b0-b8a0-4531-9a92-b1ded87caaee"
      },
      "execution_count": 24,
      "outputs": [
        {
          "output_type": "stream",
          "name": "stdout",
          "text": [
            "Aprovado 8\n",
            "Aprovado 9\n",
            "Reprovado 3\n",
            "Reprovado 4\n",
            "Aprovado 7\n",
            "Aprovado 10\n",
            "Reprovado 3\n",
            "Reprovado 6\n",
            "Aprovado 7\n"
          ]
        }
      ]
    },
    {
      "cell_type": "code",
      "source": [
        "#exiba a quantidade de aprovados e reprovados\n",
        "aprovados = 0\n",
        "reprovados = 0\n",
        "for nota in notas:\n",
        "  if(nota >= 7):\n",
        "    aprovados += 1\n",
        "  else:\n",
        "    reprovados += 1\n",
        "\n",
        "print('Aprovados: ', aprovados)\n",
        "print('Reprovados: ', reprovados)"
      ],
      "metadata": {
        "colab": {
          "base_uri": "https://localhost:8080/"
        },
        "id": "04F15g0xLdgp",
        "outputId": "ca52a0e1-f321-4b01-c2b0-9c87517bf1e1"
      },
      "execution_count": 25,
      "outputs": [
        {
          "output_type": "stream",
          "name": "stdout",
          "text": [
            "Aprovados:  5\n",
            "Reprovados:  4\n"
          ]
        }
      ]
    },
    {
      "cell_type": "code",
      "source": [
        "#criar um programa q lista numeros de 1 a 10\n",
        "#precisa de um contador\n",
        "cont = 1\n",
        "numeros = []\n",
        "\n",
        "while(cont <= 10):\n",
        "  numeros.append(cont)\n",
        "  cont += 1\n",
        "  \n",
        "numeros "
      ],
      "metadata": {
        "colab": {
          "base_uri": "https://localhost:8080/"
        },
        "id": "8Was-80TQoA8",
        "outputId": "100e0277-b972-40fd-9d27-565a0f749dfb"
      },
      "execution_count": 27,
      "outputs": [
        {
          "output_type": "execute_result",
          "data": {
            "text/plain": [
              "[1, 2, 3, 4, 5, 6, 7, 8, 9, 10]"
            ]
          },
          "metadata": {},
          "execution_count": 27
        }
      ]
    },
    {
      "cell_type": "code",
      "source": [
        "#modifique o codigo anterior, para solicitar um tamanho de lista\n",
        "#X e com o laço while, crie a nova lista, do tamanho desejado\n",
        "cont = 1\n",
        "numeros = []\n",
        "tamanho = int(input('Digite o tamanho da lista: '))\n",
        "\n",
        "while (cont <= tamanho):\n",
        "  numeros.append(cont)\n",
        "  cont += 1\n",
        "\n",
        "numeros"
      ],
      "metadata": {
        "colab": {
          "base_uri": "https://localhost:8080/"
        },
        "id": "okG2NCYhSROP",
        "outputId": "bd021c0a-05eb-4019-a0c4-bee138a244ae"
      },
      "execution_count": 28,
      "outputs": [
        {
          "name": "stdout",
          "output_type": "stream",
          "text": [
            "Digite o tamanho da lista: 5\n"
          ]
        },
        {
          "output_type": "execute_result",
          "data": {
            "text/plain": [
              "[1, 2, 3, 4, 5]"
            ]
          },
          "metadata": {},
          "execution_count": 28
        }
      ]
    },
    {
      "cell_type": "code",
      "source": [
        "#inserir nomes de cidade\n",
        "#o laço encerra, quando digitar 0\n",
        "cidades = []\n",
        "cidade = input('Digite o nome de uma cidade: ')\n",
        "\n",
        "while (cidade != '0'):\n",
        "   cidades.append(cidade)\n",
        "   cidade = input('Digite o nome de uma cidade: ')\n",
        "\n",
        "cidades"
      ],
      "metadata": {
        "colab": {
          "base_uri": "https://localhost:8080/"
        },
        "id": "kfk5Lrz1UyuP",
        "outputId": "7521e42e-7ca1-4bd8-d528-e191a8062bf5"
      },
      "execution_count": 38,
      "outputs": [
        {
          "name": "stdout",
          "output_type": "stream",
          "text": [
            "Digite o nome de uma cidade: cajazeiras\n",
            "Digite o nome de uma cidade: santa cruz\n",
            "Digite o nome de uma cidade: \n",
            "Digite o nome de uma cidade: 0\n"
          ]
        },
        {
          "output_type": "execute_result",
          "data": {
            "text/plain": [
              "['cajazeiras', 'santa cruz', '']"
            ]
          },
          "metadata": {},
          "execution_count": 38
        }
      ]
    },
    {
      "cell_type": "code",
      "source": [
        "#verificar se o numero digitado é par ou impar\n",
        "#se digitar um numero negativo encerra\n",
        "numero = int(input('Digite um numero '))\n",
        "\n",
        "while (numero >= 0):\n",
        "  if (numero % 2 == 0):\n",
        "   print('O numero é par')\n",
        "   numero = int(input('Digite um numero '))\n",
        "  else:\n",
        "   print('O numero é impar')\n",
        "   numero = int(input('Digite um numero '))\n",
        "\n",
        "print('programa encerrado')"
      ],
      "metadata": {
        "colab": {
          "base_uri": "https://localhost:8080/"
        },
        "id": "VTsjGqdjX3kJ",
        "outputId": "7439ea2a-b781-42ed-bbe4-b0dd6532178e"
      },
      "execution_count": 54,
      "outputs": [
        {
          "output_type": "stream",
          "name": "stdout",
          "text": [
            "Digite um numero -4\n",
            "programa encerrado\n"
          ]
        }
      ]
    },
    {
      "cell_type": "code",
      "source": [
        "#isdigit() verificar se o que foi digitado é um numero ou nao\n",
        "\n",
        "num = input('digite um numero ')\n",
        "num.isdigit()"
      ],
      "metadata": {
        "colab": {
          "base_uri": "https://localhost:8080/"
        },
        "id": "tAbJYa5qcyuo",
        "outputId": "86288ee3-bcd1-4d1f-c900-0792cb99d6eb"
      },
      "execution_count": 56,
      "outputs": [
        {
          "name": "stdout",
          "output_type": "stream",
          "text": [
            "digite um numero a\n"
          ]
        },
        {
          "output_type": "execute_result",
          "data": {
            "text/plain": [
              "False"
            ]
          },
          "metadata": {},
          "execution_count": 56
        }
      ]
    }
  ]
}